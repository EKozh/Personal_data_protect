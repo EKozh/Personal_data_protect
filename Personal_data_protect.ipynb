{
 "cells": [
  {
   "cell_type": "markdown",
   "metadata": {
    "toc": true
   },
   "source": [
    "<h1>Содержание<span class=\"tocSkip\"></span></h1>\n",
    "<div class=\"toc\"><ul class=\"toc-item\"><li><span><a href=\"#Загрузка-данных\" data-toc-modified-id=\"Загрузка-данных-1\"><span class=\"toc-item-num\">1&nbsp;&nbsp;</span>Загрузка данных</a></span></li><li><span><a href=\"#Умножение-матриц\" data-toc-modified-id=\"Умножение-матриц-2\"><span class=\"toc-item-num\">2&nbsp;&nbsp;</span>Умножение матриц</a></span></li><li><span><a href=\"#Алгоритм-преобразования\" data-toc-modified-id=\"Алгоритм-преобразования-3\"><span class=\"toc-item-num\">3&nbsp;&nbsp;</span>Алгоритм преобразования</a></span></li><li><span><a href=\"#Проверка-алгоритма\" data-toc-modified-id=\"Проверка-алгоритма-4\"><span class=\"toc-item-num\">4&nbsp;&nbsp;</span>Проверка алгоритма</a></span></li><li><span><a href=\"#Общий-вывод\" data-toc-modified-id=\"Общий-вывод-5\"><span class=\"toc-item-num\">5&nbsp;&nbsp;</span>Общий вывод</a></span></li><li><span><a href=\"#Чек-лист-проверки\" data-toc-modified-id=\"Чек-лист-проверки-6\"><span class=\"toc-item-num\">6&nbsp;&nbsp;</span>Чек-лист проверки</a></span></li></ul></div>"
   ]
  },
  {
   "cell_type": "markdown",
   "metadata": {},
   "source": [
    "# Защита персональных данных клиентов"
   ]
  },
  {
   "cell_type": "markdown",
   "metadata": {},
   "source": [
    "Вам нужно защитить данные клиентов страховой компании. Разработайте такой метод преобразования данных, чтобы по ним было сложно восстановить персональную информацию. Обоснуйте корректность его работы.\n",
    "\n",
    "Нужно защитить данные, чтобы при преобразовании качество моделей машинного обучения не ухудшилось. Подбирать наилучшую модель не требуется."
   ]
  },
  {
   "cell_type": "markdown",
   "metadata": {},
   "source": [
    "## Загрузка данных"
   ]
  },
  {
   "cell_type": "code",
   "execution_count": 1,
   "metadata": {},
   "outputs": [],
   "source": [
    "import pandas as pd\n",
    "import numpy as np\n",
    "from matplotlib import pyplot as plt\n",
    "from sklearn.model_selection import train_test_split\n",
    "from sklearn.linear_model import LinearRegression\n",
    "from sklearn.metrics import r2_score"
   ]
  },
  {
   "cell_type": "code",
   "execution_count": 2,
   "metadata": {},
   "outputs": [],
   "source": [
    "df = pd.read_csv('/datasets/insurance.csv')"
   ]
  },
  {
   "cell_type": "code",
   "execution_count": 5,
   "metadata": {},
   "outputs": [],
   "source": [
    "# Функция для вывода общей информации\n",
    "def begin(data):\n",
    "    print(data.head())\n",
    "    print('\\n Общая информация\\n')\n",
    "    print(data.info())\n",
    "    print('\\n Описательная статистика\\n')\n",
    "    print(data.describe())\n",
    "    print('\\n Количество пропущенных значений:', data.isna().sum().sum())\n",
    "    print('\\n Количество дубликатов:', data.duplicated(keep = False).sum())\n",
    "    print('\\n Гистограмма распределения')\n",
    "    data.hist(figsize=(7,9))"
   ]
  },
  {
   "cell_type": "code",
   "execution_count": 56,
   "metadata": {},
   "outputs": [
    {
     "name": "stdout",
     "output_type": "stream",
     "text": [
      "   Пол  Возраст  Зарплата  Члены семьи  Страховые выплаты\n",
      "0    1     41.0   49600.0            1                  0\n",
      "1    0     46.0   38000.0            1                  1\n",
      "2    0     29.0   21000.0            0                  0\n",
      "3    0     21.0   41700.0            2                  0\n",
      "4    1     28.0   26100.0            0                  0\n",
      "\n",
      " Общая информация\n",
      "\n",
      "<class 'pandas.core.frame.DataFrame'>\n",
      "RangeIndex: 5000 entries, 0 to 4999\n",
      "Data columns (total 5 columns):\n",
      " #   Column             Non-Null Count  Dtype  \n",
      "---  ------             --------------  -----  \n",
      " 0   Пол                5000 non-null   int64  \n",
      " 1   Возраст            5000 non-null   float64\n",
      " 2   Зарплата           5000 non-null   float64\n",
      " 3   Члены семьи        5000 non-null   int64  \n",
      " 4   Страховые выплаты  5000 non-null   int64  \n",
      "dtypes: float64(2), int64(3)\n",
      "memory usage: 195.4 KB\n",
      "None\n",
      "\n",
      " Описательная статистика\n",
      "\n",
      "               Пол      Возраст      Зарплата  Члены семьи  Страховые выплаты\n",
      "count  5000.000000  5000.000000   5000.000000  5000.000000        5000.000000\n",
      "mean      0.499000    30.952800  39916.360000     1.194200           0.148000\n",
      "std       0.500049     8.440807   9900.083569     1.091387           0.463183\n",
      "min       0.000000    18.000000   5300.000000     0.000000           0.000000\n",
      "25%       0.000000    24.000000  33300.000000     0.000000           0.000000\n",
      "50%       0.000000    30.000000  40200.000000     1.000000           0.000000\n",
      "75%       1.000000    37.000000  46600.000000     2.000000           0.000000\n",
      "max       1.000000    65.000000  79000.000000     6.000000           5.000000\n",
      "\n",
      " Количество пропущенных значений: 0\n",
      "\n",
      " Количество дубликатов: 300\n",
      "\n",
      " Гистограмма распределения\n"
     ]
    },
    {
     "data": {
      "image/png": "[encoded data removed]",
      "text/plain": [
       "<Figure size 504x648 with 6 Axes>"
      ]
     },
     "metadata": {
      "needs_background": "light"
     },
     "output_type": "display_data"
    }
   ],
   "source": [
    "begin(df)"
   ]
  },
  {
   "cell_type": "code",
   "execution_count": 57,
   "metadata": {},
   "outputs": [],
   "source": [
    "# Изменим тип данных в столбцах \"Возраст\" и \"Зарплата\"\n",
    "df['Возраст'] = df['Возраст'].astype('int')\n",
    "df['Зарплата'] = df['Зарплата'].astype('int')"
   ]
  },
  {
   "cell_type": "code",
   "execution_count": 58,
   "metadata": {},
   "outputs": [
    {
     "name": "stdout",
     "output_type": "stream",
     "text": [
      "<class 'pandas.core.frame.DataFrame'>\n",
      "RangeIndex: 5000 entries, 0 to 4999\n",
      "Data columns (total 5 columns):\n",
      " #   Column             Non-Null Count  Dtype\n",
      "---  ------             --------------  -----\n",
      " 0   Пол                5000 non-null   int64\n",
      " 1   Возраст            5000 non-null   int64\n",
      " 2   Зарплата           5000 non-null   int64\n",
      " 3   Члены семьи        5000 non-null   int64\n",
      " 4   Страховые выплаты  5000 non-null   int64\n",
      "dtypes: int64(5)\n",
      "memory usage: 195.4 KB\n"
     ]
    }
   ],
   "source": [
    "# Проверка типов данных\n",
    "df.info()"
   ]
  },
  {
   "cell_type": "code",
   "execution_count": 59,
   "metadata": {},
   "outputs": [
    {
     "data": {
      "image/png": "[encoded data removed]",
      "text/plain": [
       "<Figure size 432x288 with 1 Axes>"
      ]
     },
     "metadata": {},
     "output_type": "display_data"
    }
   ],
   "source": [
    "df.groupby(['Пол']).count().plot(kind='pie', y='Зарплата', title = 'Пол клиента');"
   ]
  },
  {
   "cell_type": "code",
   "execution_count": 60,
   "metadata": {
    "scrolled": true
   },
   "outputs": [
    {
     "data": {
      "image/png": "[encoded data removed]",
      "text/plain": [
       "<Figure size 432x288 with 1 Axes>"
      ]
     },
     "metadata": {
      "needs_background": "light"
     },
     "output_type": "display_data"
    }
   ],
   "source": [
    "df.groupby(['Члены семьи']).count().plot(kind='bar', y='Зарплата', title = 'Количество членов семьи');"
   ]
  },
  {
   "cell_type": "code",
   "execution_count": 61,
   "metadata": {},
   "outputs": [
    {
     "data": {
      "image/png": "[encoded data removed]",
      "text/plain": [
       "<Figure size 432x288 with 1 Axes>"
      ]
     },
     "metadata": {
      "needs_background": "light"
     },
     "output_type": "display_data"
    }
   ],
   "source": [
    "df.groupby(['Страховые выплаты']).count().plot(kind='bar', y='Зарплата', title = 'Количество страховых выплат за 5 лет');"
   ]
  },
  {
   "cell_type": "markdown",
   "metadata": {},
   "source": [
    "В исходных данных представлена информация по застрахованным клиентам компании. Всего в датафрейме 5000 строк и 5 столбцов.\n",
    "*Признаки:* пол, возраст и зарплата застрахованного, количество членов его семьи.\n",
    "\n",
    "*Целевой признак:* количество страховых выплат клиенту за последние 5 лет.\n",
    "\n",
    "Был изменен тип столбцов \"Возраст\" и \"Зарплата\" на целочисленный.\n",
    "\n",
    "В таблице соблюден идеальный баланс между мужчинами и женщинами. Средний возраст застрахованного составляет 30-31 лет. Заработная плата варьируется от 5 тыс. до 79 тыс. При этом средняя зарплата составляет 40 тыс. рублей. Больше всего у клиентов страховой компании один член скмьи или же ни одного. Чаще всего за пять лет страховые выплаты не производились, что говорит о том, что страховые случаи не наступали.\n",
    "\n",
    "В данных пропуски отсутствуют, но имеются 300 дублирующих значений.\n",
    "Так как перед нами стоит задача защитить данные клиентов, дополнительных манипуляций делать не будем. Нашему исследованию это не помешает."
   ]
  },
  {
   "cell_type": "markdown",
   "metadata": {},
   "source": [
    "## Умножение матриц"
   ]
  },
  {
   "cell_type": "markdown",
   "metadata": {},
   "source": [
    "В этом задании вы можете записывать формулы в *Jupyter Notebook.*\n",
    "\n",
    "Чтобы записать формулу внутри текста, окружите её символами доллара \\\\$; если снаружи —  двойными символами \\\\$\\\\$. Эти формулы записываются на языке вёрстки *LaTeX.* \n",
    "\n",
    "Для примера мы записали формулы линейной регрессии. Можете их скопировать и отредактировать, чтобы решить задачу.\n",
    "\n",
    "Работать в *LaTeX* необязательно."
   ]
  },
  {
   "cell_type": "markdown",
   "metadata": {},
   "source": [
    "Обозначения:\n",
    "\n",
    "- $X$ — матрица признаков (нулевой столбец состоит из единиц)\n",
    "\n",
    "- $y$ — вектор целевого признака\n",
    "\n",
    "- $P$ — матрица, на которую умножаются признаки\n",
    "\n",
    "- $w$ — вектор весов линейной регрессии (нулевой элемент равен сдвигу)"
   ]
  },
  {
   "cell_type": "markdown",
   "metadata": {},
   "source": [
    "Предсказания:\n",
    "\n",
    "$$\n",
    "a = Xw\n",
    "$$\n",
    "\n",
    "Задача обучения:\n",
    "\n",
    "$$\n",
    "w = \\arg\\min_w MSE(Xw, y)\n",
    "$$\n",
    "\n",
    "Формула обучения:\n",
    "\n",
    "$$\n",
    "w = (X^T X)^{-1} X^T y\n",
    "$$"
   ]
  },
  {
   "cell_type": "markdown",
   "metadata": {},
   "source": [
    "**Признаки умножают на обратимую матрицу. Изменится ли качество линейной регрессии? (Её можно обучить заново.)**"
   ]
  },
  {
   "cell_type": "markdown",
   "metadata": {},
   "source": [
    "**Ответ:** Не изменится.\n",
    "\n",
    "**Обоснование:** \n",
    "\n",
    "Предсказания равно:\n",
    "$$\n",
    "a = Xw = XEw = XPP^{-1}w = (XP)P^{-1}w = (XP)w'\n",
    "$$\n",
    "Подставляем в формулу обучения вместо Х умножение на ХР:\n",
    "$$\n",
    "w′ = ((XP)^T XP)^{-1} (XP)^T y\n",
    "$$\n",
    "Раскрываем скобки:\n",
    "$$\n",
    "w' = (P^T (X^T X) P)^{-1} (XP)^T y\n",
    "$$\n",
    "$$\n",
    "w' = (P^T (X^T X) P)^{-1} P^T X^T y\n",
    "$$\n",
    "$$\n",
    "w′ = P^{-1}(X^T X)^{-1}(P^T)^{-1} P^T X^T y\n",
    "$$\n",
    "По свойству обратной матрицы, при умножение матрицы на обратную ей получается единичная матрица (E), то есть:\n",
    "$$\n",
    "(P^T)^{-1} P^T = Е\n",
    "$$\n",
    "$$\n",
    "w′ = P^{-1}(X^T X)^{-1} X^T y\n",
    "$$\n",
    "Подставляем w′ в формулу предсказания:\n",
    "$$\n",
    "a = (XP)w' = (XP)P^{-1}(X^T X)^{-1} X^T y\n",
    "$$\n",
    "\n",
    "По свойству обратной матрицы, при умножение матрицы на обратную ей получается единичная матрица (E), то есть:\n",
    "$$\n",
    "(P)^{-1} P = Е\n",
    "$$\n",
    "$$\n",
    "a = (X)(X^T X)^{-1} X^T y\n",
    "$$\n",
    "\n",
    "Таким образом,исходная формула вектора предсказаний равна формуле вектора предсказаний в случае, для которого матрицу признаков умножили на обратимую матрицу. Качество линейной регрессии не изменится:\n",
    "$$\n",
    "𝑎 = Xw\n",
    "$$"
   ]
  },
  {
   "cell_type": "markdown",
   "metadata": {},
   "source": [
    "## Алгоритм преобразования"
   ]
  },
  {
   "cell_type": "markdown",
   "metadata": {},
   "source": [
    "**Алгоритм**\n",
    "\n",
    "- Обучение модели и вычисление коэффициента детерминации по исходным данным.\n",
    "- Умножение признаков на обратимую матрицу той же размерности,в которой все величины сгенерированы случайно.\n",
    "- Обучение модели и вычисление коэффициента детерминации на изменённых данных.\n",
    "- Сравнение коэффициентов детерминации моделей."
   ]
  },
  {
   "cell_type": "markdown",
   "metadata": {},
   "source": [
    "## Проверка алгоритма"
   ]
  },
  {
   "cell_type": "code",
   "execution_count": 62,
   "metadata": {},
   "outputs": [],
   "source": [
    "# Выделим признаки\n",
    "features = df.drop('Страховые выплаты', axis=1)\n",
    "target = df['Страховые выплаты']"
   ]
  },
  {
   "cell_type": "code",
   "execution_count": 63,
   "metadata": {},
   "outputs": [],
   "source": [
    "# Разделим выборки на обучающую и тестовую\n",
    "features_train, features_test, target_train, target_test = train_test_split(\n",
    "    features, target, test_size=.25, random_state=12345)"
   ]
  },
  {
   "cell_type": "code",
   "execution_count": 64,
   "metadata": {},
   "outputs": [
    {
     "name": "stdout",
     "output_type": "stream",
     "text": [
      "Коэффициент детерминации на исходных данных: 0.4352275684083322\n"
     ]
    }
   ],
   "source": [
    "# Обучении модели Линейной регрессии на исходных данных\n",
    "model_orig = LinearRegression()\n",
    "model_orig.fit(features_train, target_train)\n",
    "predict_orig = model_orig.predict(features_test)\n",
    "r2_first = r2_score(target_test, predict_orig)\n",
    "print(\"Коэффициент детерминации на исходных данных:\", r2_first)"
   ]
  },
  {
   "cell_type": "code",
   "execution_count": 65,
   "metadata": {},
   "outputs": [],
   "source": [
    "# Создадим обратимую матрицу\n",
    "random_matrix = np.random.normal(size=(4, 4))"
   ]
  },
  {
   "cell_type": "code",
   "execution_count": 66,
   "metadata": {},
   "outputs": [
    {
     "data": {
      "text/plain": [
       "array([[ 0.14010378, -0.49113909, -0.16174778, -0.26013919],\n",
       "       [ 0.30168315,  1.37570394,  0.53890988, -0.4333004 ],\n",
       "       [ 0.18448608, -4.47075159, -0.2742594 ,  1.50356819],\n",
       "       [-1.0656244 , -0.38413844,  0.37447891,  0.14897067]])"
      ]
     },
     "execution_count": 66,
     "metadata": {},
     "output_type": "execute_result"
    }
   ],
   "source": [
    "# Проверка полученной матрицы на обратимость\n",
    "matrix_encoder = np.linalg.inv(random_matrix)\n",
    "matrix_encoder"
   ]
  },
  {
   "cell_type": "code",
   "execution_count": 67,
   "metadata": {},
   "outputs": [],
   "source": [
    "# Умножаем признаки на обратимую матрицу\n",
    "features_train_encoded = features_train.values @ matrix_encoder\n",
    "features_test_encoded = features_test.values @ matrix_encoder"
   ]
  },
  {
   "cell_type": "code",
   "execution_count": 68,
   "metadata": {},
   "outputs": [
    {
     "name": "stdout",
     "output_type": "stream",
     "text": [
      "Коэффициент детерминации для зашифрованных данных: 0.43522756840684984\n"
     ]
    }
   ],
   "source": [
    "# Обучение модели на зашифрованных данных\n",
    "model_encoded = LinearRegression()\n",
    "model_encoded.fit(features_train_encoded, target_train)\n",
    "predictions_encoded = model_encoded.predict(features_test_encoded)\n",
    "r2_encoded = r2_score(target_test, predictions_encoded)\n",
    "print(\"Коэффициент детерминации для зашифрованных данных:\", r2_encoded)"
   ]
  },
  {
   "cell_type": "code",
   "execution_count": 69,
   "metadata": {},
   "outputs": [
    {
     "name": "stdout",
     "output_type": "stream",
     "text": [
      "Разница между коэффициентами детерминации: 1.482369782479509e-12\n"
     ]
    }
   ],
   "source": [
    "print(\"Разница между коэффициентами детерминации:\", r2_first-r2_encoded)"
   ]
  },
  {
   "cell_type": "markdown",
   "metadata": {},
   "source": [
    "При умножение матрицы признаков на обратимую матрицу качество линейной регрессии меняется незначительно."
   ]
  },
  {
   "cell_type": "markdown",
   "metadata": {},
   "source": [
    "## Общий вывод"
   ]
  },
  {
   "cell_type": "markdown",
   "metadata": {},
   "source": [
    "В процессе выполнения проекта по защите данных клиентов страховой исходные данные были проанализированы и изменены типы данных на целочисленные. Для нашей задачи дополнительных манипуляций данных не требовалось.\n",
    "Для шифрования данных применено их умножение на обратимую матрицу. Было доказано теоретически, что при умножении признаков на обратимую матрицу качество линейной регрессии не меняется.\n",
    "\n",
    "Для проверки уровня изменения качества проведены измерения коэффициентов детерминации модели до и после преобразований - они оказались равными, что свидетельствует о том, что выбор варианта шифрования не сказался на качестве модели."
   ]
  }
 ],
 "metadata": {
  "ExecuteTimeLog": [
   {
    "duration": 359,
    "start_time": "2023-02-14T11:22:27.340Z"
   },
   {
    "duration": 3,
    "start_time": "2023-02-14T11:22:31.708Z"
   },
   {
    "duration": 89,
    "start_time": "2023-02-14T11:23:14.201Z"
   },
   {
    "duration": 3,
    "start_time": "2023-02-14T11:24:14.010Z"
   },
   {
    "duration": 24,
    "start_time": "2023-02-14T11:24:27.749Z"
   },
   {
    "duration": 3,
    "start_time": "2023-02-14T11:24:51.482Z"
   },
   {
    "duration": 32,
    "start_time": "2023-02-14T11:24:53.015Z"
   },
   {
    "duration": 3,
    "start_time": "2023-02-14T11:25:20.428Z"
   },
   {
    "duration": 826,
    "start_time": "2023-02-14T11:25:21.040Z"
   },
   {
    "duration": 4,
    "start_time": "2023-02-14T11:25:50.028Z"
   },
   {
    "duration": 104,
    "start_time": "2023-02-14T11:25:50.782Z"
   },
   {
    "duration": 3,
    "start_time": "2023-02-14T11:26:23.268Z"
   },
   {
    "duration": 541,
    "start_time": "2023-02-14T11:26:24.013Z"
   },
   {
    "duration": 3,
    "start_time": "2023-02-14T11:26:36.074Z"
   },
   {
    "duration": 562,
    "start_time": "2023-02-14T11:26:36.719Z"
   },
   {
    "duration": 52,
    "start_time": "2023-02-14T11:27:27.312Z"
   },
   {
    "duration": 451,
    "start_time": "2023-02-14T11:27:28.389Z"
   },
   {
    "duration": 4,
    "start_time": "2023-02-14T11:27:41.787Z"
   },
   {
    "duration": 447,
    "start_time": "2023-02-14T11:27:43.064Z"
   },
   {
    "duration": 54,
    "start_time": "2023-02-14T11:27:54.648Z"
   },
   {
    "duration": 508,
    "start_time": "2023-02-14T11:27:55.285Z"
   },
   {
    "duration": 3,
    "start_time": "2023-02-14T11:28:30.181Z"
   },
   {
    "duration": 520,
    "start_time": "2023-02-14T11:28:31.042Z"
   },
   {
    "duration": 3,
    "start_time": "2023-02-14T11:28:51.289Z"
   },
   {
    "duration": 457,
    "start_time": "2023-02-14T11:28:51.981Z"
   },
   {
    "duration": 4,
    "start_time": "2023-02-14T11:29:24.811Z"
   },
   {
    "duration": 569,
    "start_time": "2023-02-14T11:29:25.675Z"
   },
   {
    "duration": 4,
    "start_time": "2023-02-14T11:29:44.329Z"
   },
   {
    "duration": 435,
    "start_time": "2023-02-14T11:29:45.014Z"
   },
   {
    "duration": 5,
    "start_time": "2023-02-14T11:32:04.329Z"
   },
   {
    "duration": 443,
    "start_time": "2023-02-14T11:32:05.082Z"
   },
   {
    "duration": 4,
    "start_time": "2023-02-14T11:33:01.763Z"
   },
   {
    "duration": 480,
    "start_time": "2023-02-14T11:33:02.392Z"
   },
   {
    "duration": 4,
    "start_time": "2023-02-14T11:33:13.628Z"
   },
   {
    "duration": 560,
    "start_time": "2023-02-14T11:33:14.132Z"
   },
   {
    "duration": 15,
    "start_time": "2023-02-14T11:38:44.643Z"
   },
   {
    "duration": 15,
    "start_time": "2023-02-14T11:39:22.536Z"
   },
   {
    "duration": 15,
    "start_time": "2023-02-14T11:40:01.081Z"
   },
   {
    "duration": 13,
    "start_time": "2023-02-14T11:40:08.739Z"
   },
   {
    "duration": 25,
    "start_time": "2023-02-14T11:40:49.530Z"
   },
   {
    "duration": 11,
    "start_time": "2023-02-14T11:43:29.360Z"
   },
   {
    "duration": 15,
    "start_time": "2023-02-14T11:45:54.318Z"
   },
   {
    "duration": 13,
    "start_time": "2023-02-14T11:46:29.820Z"
   },
   {
    "duration": 15,
    "start_time": "2023-02-14T11:46:45.870Z"
   },
   {
    "duration": 16,
    "start_time": "2023-02-14T11:47:55.093Z"
   },
   {
    "duration": 15,
    "start_time": "2023-02-14T11:48:44.807Z"
   },
   {
    "duration": 375,
    "start_time": "2023-02-16T13:29:31.703Z"
   },
   {
    "duration": 124,
    "start_time": "2023-02-16T13:29:32.492Z"
   },
   {
    "duration": 4,
    "start_time": "2023-02-16T13:29:33.175Z"
   },
   {
    "duration": 890,
    "start_time": "2023-02-16T13:29:33.984Z"
   },
   {
    "duration": 73,
    "start_time": "2023-02-16T13:32:59.324Z"
   },
   {
    "duration": 3,
    "start_time": "2023-02-16T13:32:59.933Z"
   },
   {
    "duration": 5,
    "start_time": "2023-02-16T13:33:17.477Z"
   },
   {
    "duration": 3,
    "start_time": "2023-02-16T13:33:18.812Z"
   },
   {
    "duration": 12,
    "start_time": "2023-02-16T13:33:41.674Z"
   },
   {
    "duration": 463,
    "start_time": "2023-02-16T18:10:00.663Z"
   },
   {
    "duration": 118,
    "start_time": "2023-02-16T18:10:01.686Z"
   },
   {
    "duration": 4,
    "start_time": "2023-02-16T18:10:02.564Z"
   },
   {
    "duration": 963,
    "start_time": "2023-02-16T18:10:04.775Z"
   },
   {
    "duration": 4,
    "start_time": "2023-02-16T18:10:12.718Z"
   },
   {
    "duration": 5,
    "start_time": "2023-02-16T18:10:13.346Z"
   },
   {
    "duration": 8,
    "start_time": "2023-02-16T18:10:13.977Z"
   },
   {
    "duration": 662,
    "start_time": "2023-02-16T18:13:53.231Z"
   },
   {
    "duration": 30,
    "start_time": "2023-02-16T18:13:53.895Z"
   },
   {
    "duration": 4,
    "start_time": "2023-02-16T18:13:54.775Z"
   },
   {
    "duration": 462,
    "start_time": "2023-02-16T18:13:55.322Z"
   },
   {
    "duration": 4,
    "start_time": "2023-02-16T18:14:00.962Z"
   },
   {
    "duration": 3,
    "start_time": "2023-02-16T18:14:01.662Z"
   },
   {
    "duration": 5,
    "start_time": "2023-02-16T18:14:02.212Z"
   },
   {
    "duration": 12,
    "start_time": "2023-02-16T18:14:03.363Z"
   },
   {
    "duration": 7,
    "start_time": "2023-02-16T18:14:04.290Z"
   },
   {
    "duration": 3,
    "start_time": "2023-02-16T18:15:31.181Z"
   },
   {
    "duration": 4,
    "start_time": "2023-02-16T18:15:32.363Z"
   },
   {
    "duration": 7,
    "start_time": "2023-02-16T18:15:33.109Z"
   },
   {
    "duration": 4,
    "start_time": "2023-02-16T18:15:34.164Z"
   },
   {
    "duration": 5,
    "start_time": "2023-02-16T18:16:37.612Z"
   },
   {
    "duration": 75,
    "start_time": "2023-02-16T18:19:57.002Z"
   },
   {
    "duration": 4,
    "start_time": "2023-02-16T18:20:08.302Z"
   },
   {
    "duration": 529,
    "start_time": "2023-02-16T18:20:11.144Z"
   },
   {
    "duration": 4,
    "start_time": "2023-02-16T18:38:38.136Z"
   },
   {
    "duration": 6,
    "start_time": "2023-02-16T18:38:39.027Z"
   },
   {
    "duration": 3,
    "start_time": "2023-02-16T18:38:53.263Z"
   },
   {
    "duration": 5,
    "start_time": "2023-02-16T18:39:24.017Z"
   },
   {
    "duration": 4,
    "start_time": "2023-02-16T18:41:56.678Z"
   },
   {
    "duration": 7,
    "start_time": "2023-02-16T18:41:57.328Z"
   },
   {
    "duration": 4,
    "start_time": "2023-02-16T18:42:02.287Z"
   },
   {
    "duration": 6,
    "start_time": "2023-02-16T18:42:03.020Z"
   },
   {
    "duration": 4,
    "start_time": "2023-02-16T18:42:03.810Z"
   },
   {
    "duration": 5,
    "start_time": "2023-02-16T18:44:24.243Z"
   },
   {
    "duration": 7,
    "start_time": "2023-02-16T18:44:24.800Z"
   },
   {
    "duration": 4,
    "start_time": "2023-02-16T18:45:01.662Z"
   },
   {
    "duration": 14,
    "start_time": "2023-02-16T18:46:35.888Z"
   },
   {
    "duration": 3,
    "start_time": "2023-02-16T18:46:37.026Z"
   },
   {
    "duration": 8,
    "start_time": "2023-02-16T18:47:24.204Z"
   },
   {
    "duration": 3,
    "start_time": "2023-02-16T18:47:25.083Z"
   },
   {
    "duration": 103,
    "start_time": "2023-02-16T18:47:25.859Z"
   },
   {
    "duration": 9,
    "start_time": "2023-02-16T18:47:38.848Z"
   },
   {
    "duration": 9,
    "start_time": "2023-02-16T18:47:50.046Z"
   },
   {
    "duration": 4,
    "start_time": "2023-02-16T18:48:28.356Z"
   },
   {
    "duration": 2,
    "start_time": "2023-02-16T18:56:41.711Z"
   },
   {
    "duration": 31,
    "start_time": "2023-02-16T18:56:42.455Z"
   },
   {
    "duration": 4,
    "start_time": "2023-02-16T18:56:43.138Z"
   },
   {
    "duration": 40,
    "start_time": "2023-02-16T18:56:43.883Z"
   },
   {
    "duration": 3,
    "start_time": "2023-02-16T18:56:59.379Z"
   },
   {
    "duration": 529,
    "start_time": "2023-02-16T18:56:59.944Z"
   },
   {
    "duration": 4,
    "start_time": "2023-02-16T19:00:22.146Z"
   },
   {
    "duration": 12,
    "start_time": "2023-02-16T19:00:31.540Z"
   },
   {
    "duration": 4,
    "start_time": "2023-02-16T19:00:50.104Z"
   },
   {
    "duration": 4,
    "start_time": "2023-02-16T19:00:50.685Z"
   },
   {
    "duration": 10,
    "start_time": "2023-02-16T19:00:51.413Z"
   },
   {
    "duration": 3,
    "start_time": "2023-02-16T19:01:06.255Z"
   },
   {
    "duration": 29,
    "start_time": "2023-02-16T19:01:06.877Z"
   },
   {
    "duration": 4,
    "start_time": "2023-02-16T19:01:07.402Z"
   },
   {
    "duration": 537,
    "start_time": "2023-02-16T19:01:08.007Z"
   },
   {
    "duration": 4,
    "start_time": "2023-02-16T19:01:09.179Z"
   },
   {
    "duration": 4,
    "start_time": "2023-02-16T19:01:10.767Z"
   },
   {
    "duration": 11,
    "start_time": "2023-02-16T19:01:11.487Z"
   },
   {
    "duration": 4,
    "start_time": "2023-02-16T19:01:27.706Z"
   },
   {
    "duration": 11,
    "start_time": "2023-02-16T19:01:28.229Z"
   },
   {
    "duration": 3,
    "start_time": "2023-02-16T19:01:46.202Z"
   },
   {
    "duration": 29,
    "start_time": "2023-02-16T19:01:46.777Z"
   },
   {
    "duration": 4,
    "start_time": "2023-02-16T19:01:47.310Z"
   },
   {
    "duration": 608,
    "start_time": "2023-02-16T19:01:47.924Z"
   },
   {
    "duration": 4,
    "start_time": "2023-02-16T19:01:48.534Z"
   },
   {
    "duration": 3,
    "start_time": "2023-02-16T19:01:49.448Z"
   },
   {
    "duration": 10,
    "start_time": "2023-02-16T19:01:50.244Z"
   },
   {
    "duration": 2,
    "start_time": "2023-02-16T19:02:27.723Z"
   },
   {
    "duration": 28,
    "start_time": "2023-02-16T19:02:28.248Z"
   },
   {
    "duration": 4,
    "start_time": "2023-02-16T19:02:28.853Z"
   },
   {
    "duration": 501,
    "start_time": "2023-02-16T19:02:29.382Z"
   },
   {
    "duration": 5,
    "start_time": "2023-02-16T19:02:30.476Z"
   },
   {
    "duration": 12,
    "start_time": "2023-02-16T19:02:31.187Z"
   },
   {
    "duration": 28,
    "start_time": "2023-02-16T19:05:51.446Z"
   },
   {
    "duration": 13,
    "start_time": "2023-02-16T19:08:35.674Z"
   },
   {
    "duration": 3,
    "start_time": "2023-02-16T19:09:00.651Z"
   },
   {
    "duration": 31,
    "start_time": "2023-02-16T19:09:01.275Z"
   },
   {
    "duration": 5,
    "start_time": "2023-02-16T19:09:02.036Z"
   },
   {
    "duration": 528,
    "start_time": "2023-02-16T19:09:02.965Z"
   },
   {
    "duration": 5,
    "start_time": "2023-02-16T19:09:04.433Z"
   },
   {
    "duration": 12,
    "start_time": "2023-02-16T19:09:05.290Z"
   },
   {
    "duration": 5,
    "start_time": "2023-02-16T19:09:14.475Z"
   },
   {
    "duration": 4,
    "start_time": "2023-02-16T19:09:15.096Z"
   },
   {
    "duration": 3,
    "start_time": "2023-02-16T19:09:16.059Z"
   },
   {
    "duration": 5,
    "start_time": "2023-02-16T19:09:18.934Z"
   },
   {
    "duration": 9,
    "start_time": "2023-02-16T19:11:45.628Z"
   },
   {
    "duration": 3,
    "start_time": "2023-02-16T19:12:30.538Z"
   },
   {
    "duration": 8,
    "start_time": "2023-02-16T19:13:14.105Z"
   },
   {
    "duration": 3,
    "start_time": "2023-02-16T19:13:15.619Z"
   },
   {
    "duration": 7,
    "start_time": "2023-02-16T19:15:24.392Z"
   },
   {
    "duration": 3,
    "start_time": "2023-02-16T19:15:25.036Z"
   },
   {
    "duration": 6,
    "start_time": "2023-02-16T19:15:26.000Z"
   },
   {
    "duration": 3,
    "start_time": "2023-02-16T19:15:27.763Z"
   },
   {
    "duration": 93,
    "start_time": "2023-02-16T19:16:03.807Z"
   },
   {
    "duration": 3,
    "start_time": "2023-02-16T19:16:30.531Z"
   },
   {
    "duration": 6,
    "start_time": "2023-02-16T19:16:31.430Z"
   },
   {
    "duration": 8,
    "start_time": "2023-02-16T19:16:33.302Z"
   },
   {
    "duration": 3,
    "start_time": "2023-02-16T19:16:34.078Z"
   },
   {
    "duration": 6,
    "start_time": "2023-02-16T19:16:35.028Z"
   },
   {
    "duration": 3,
    "start_time": "2023-02-16T19:16:35.982Z"
   },
   {
    "duration": 3,
    "start_time": "2023-02-16T19:16:51.044Z"
   },
   {
    "duration": 29,
    "start_time": "2023-02-16T19:16:51.637Z"
   },
   {
    "duration": 4,
    "start_time": "2023-02-16T19:16:52.217Z"
   },
   {
    "duration": 516,
    "start_time": "2023-02-16T19:16:52.795Z"
   },
   {
    "duration": 5,
    "start_time": "2023-02-16T19:16:53.420Z"
   },
   {
    "duration": 11,
    "start_time": "2023-02-16T19:16:53.959Z"
   },
   {
    "duration": 4,
    "start_time": "2023-02-16T19:16:59.289Z"
   },
   {
    "duration": 6,
    "start_time": "2023-02-16T19:16:59.910Z"
   },
   {
    "duration": 4,
    "start_time": "2023-02-16T19:17:00.668Z"
   },
   {
    "duration": 5,
    "start_time": "2023-02-16T19:17:01.426Z"
   },
   {
    "duration": 6,
    "start_time": "2023-02-16T19:17:04.433Z"
   },
   {
    "duration": 4,
    "start_time": "2023-02-16T19:17:07.350Z"
   },
   {
    "duration": 6,
    "start_time": "2023-02-16T19:17:12.172Z"
   },
   {
    "duration": 3,
    "start_time": "2023-02-16T19:17:16.162Z"
   },
   {
    "duration": 8,
    "start_time": "2023-02-16T19:17:37.749Z"
   },
   {
    "duration": 3,
    "start_time": "2023-02-16T19:17:38.748Z"
   },
   {
    "duration": 6,
    "start_time": "2023-02-16T19:17:39.402Z"
   },
   {
    "duration": 8,
    "start_time": "2023-02-16T19:20:13.382Z"
   },
   {
    "duration": 2,
    "start_time": "2023-02-16T19:20:14.741Z"
   },
   {
    "duration": 10,
    "start_time": "2023-02-16T19:20:15.416Z"
   },
   {
    "duration": 3,
    "start_time": "2023-02-16T19:20:16.540Z"
   },
   {
    "duration": 6,
    "start_time": "2023-02-16T19:20:17.438Z"
   },
   {
    "duration": 4,
    "start_time": "2023-02-16T19:20:20.030Z"
   },
   {
    "duration": 4,
    "start_time": "2023-02-16T19:22:55.427Z"
   },
   {
    "duration": 27,
    "start_time": "2023-02-16T19:22:55.678Z"
   },
   {
    "duration": 4,
    "start_time": "2023-02-16T19:22:56.023Z"
   },
   {
    "duration": 591,
    "start_time": "2023-02-16T19:22:56.194Z"
   },
   {
    "duration": 5,
    "start_time": "2023-02-16T19:22:56.786Z"
   },
   {
    "duration": 15,
    "start_time": "2023-02-16T19:22:56.792Z"
   },
   {
    "duration": 5,
    "start_time": "2023-02-16T19:23:00.338Z"
   },
   {
    "duration": 5,
    "start_time": "2023-02-16T19:23:00.875Z"
   },
   {
    "duration": 11,
    "start_time": "2023-02-16T19:23:01.712Z"
   },
   {
    "duration": 3,
    "start_time": "2023-02-16T19:23:02.077Z"
   },
   {
    "duration": 9,
    "start_time": "2023-02-16T19:23:02.720Z"
   },
   {
    "duration": 4,
    "start_time": "2023-02-16T19:23:03.386Z"
   },
   {
    "duration": 9,
    "start_time": "2023-02-16T19:23:04.046Z"
   },
   {
    "duration": 5,
    "start_time": "2023-02-16T19:23:04.663Z"
   },
   {
    "duration": 3,
    "start_time": "2023-02-16T19:35:40.460Z"
   },
   {
    "duration": 29,
    "start_time": "2023-02-16T19:35:40.659Z"
   },
   {
    "duration": 4,
    "start_time": "2023-02-16T19:35:40.833Z"
   },
   {
    "duration": 554,
    "start_time": "2023-02-16T19:35:41.027Z"
   },
   {
    "duration": 6,
    "start_time": "2023-02-16T19:35:41.584Z"
   },
   {
    "duration": 16,
    "start_time": "2023-02-16T19:35:41.592Z"
   },
   {
    "duration": 6,
    "start_time": "2023-02-16T19:35:45.527Z"
   },
   {
    "duration": 7,
    "start_time": "2023-02-16T19:35:46.164Z"
   },
   {
    "duration": 9,
    "start_time": "2023-02-16T19:35:48.003Z"
   },
   {
    "duration": 3,
    "start_time": "2023-02-16T19:35:51.160Z"
   },
   {
    "duration": 6,
    "start_time": "2023-02-16T19:35:53.959Z"
   },
   {
    "duration": 4,
    "start_time": "2023-02-16T19:36:13.887Z"
   },
   {
    "duration": 6,
    "start_time": "2023-02-16T19:36:17.238Z"
   },
   {
    "duration": 3,
    "start_time": "2023-02-16T19:36:19.464Z"
   },
   {
    "duration": 12,
    "start_time": "2023-02-16T19:37:40.916Z"
   },
   {
    "duration": 10,
    "start_time": "2023-02-16T19:38:21.859Z"
   },
   {
    "duration": 9,
    "start_time": "2023-02-16T19:39:38.669Z"
   },
   {
    "duration": 3,
    "start_time": "2023-02-16T19:41:21.511Z"
   },
   {
    "duration": 30,
    "start_time": "2023-02-16T19:41:21.699Z"
   },
   {
    "duration": 5,
    "start_time": "2023-02-16T19:41:21.861Z"
   },
   {
    "duration": 572,
    "start_time": "2023-02-16T19:41:22.048Z"
   },
   {
    "duration": 6,
    "start_time": "2023-02-16T19:41:22.622Z"
   },
   {
    "duration": 34,
    "start_time": "2023-02-16T19:41:22.630Z"
   },
   {
    "duration": 5,
    "start_time": "2023-02-16T19:41:27.273Z"
   },
   {
    "duration": 5,
    "start_time": "2023-02-16T19:41:27.811Z"
   },
   {
    "duration": 8,
    "start_time": "2023-02-16T19:41:30.890Z"
   },
   {
    "duration": 9,
    "start_time": "2023-02-16T19:41:36.611Z"
   },
   {
    "duration": 2,
    "start_time": "2023-02-16T19:41:39.560Z"
   },
   {
    "duration": 5,
    "start_time": "2023-02-16T19:41:40.183Z"
   },
   {
    "duration": 4,
    "start_time": "2023-02-16T19:41:40.756Z"
   },
   {
    "duration": 7,
    "start_time": "2023-02-16T19:41:41.297Z"
   },
   {
    "duration": 4,
    "start_time": "2023-02-16T19:41:41.873Z"
   },
   {
    "duration": 3,
    "start_time": "2023-02-16T20:19:01.167Z"
   },
   {
    "duration": 28,
    "start_time": "2023-02-16T20:19:02.114Z"
   },
   {
    "duration": 4,
    "start_time": "2023-02-16T20:19:02.769Z"
   },
   {
    "duration": 581,
    "start_time": "2023-02-16T20:19:03.731Z"
   },
   {
    "duration": 4,
    "start_time": "2023-02-16T20:19:04.470Z"
   },
   {
    "duration": 15,
    "start_time": "2023-02-16T20:19:05.842Z"
   },
   {
    "duration": 3,
    "start_time": "2023-02-16T20:28:48.659Z"
   },
   {
    "duration": 28,
    "start_time": "2023-02-16T20:28:49.281Z"
   },
   {
    "duration": 4,
    "start_time": "2023-02-16T20:28:50.163Z"
   },
   {
    "duration": 462,
    "start_time": "2023-02-16T20:28:51.265Z"
   },
   {
    "duration": 10,
    "start_time": "2023-02-16T20:28:54.543Z"
   },
   {
    "duration": 11,
    "start_time": "2023-02-16T20:28:54.712Z"
   },
   {
    "duration": 4,
    "start_time": "2023-02-16T20:28:56.689Z"
   },
   {
    "duration": 5,
    "start_time": "2023-02-16T20:28:56.871Z"
   },
   {
    "duration": 8,
    "start_time": "2023-02-16T20:28:57.069Z"
   },
   {
    "duration": 2,
    "start_time": "2023-02-16T20:28:57.261Z"
   },
   {
    "duration": 7,
    "start_time": "2023-02-16T20:28:57.445Z"
   },
   {
    "duration": 4,
    "start_time": "2023-02-16T20:28:57.694Z"
   },
   {
    "duration": 5,
    "start_time": "2023-02-16T20:28:57.825Z"
   },
   {
    "duration": 3,
    "start_time": "2023-02-16T20:28:58.026Z"
   },
   {
    "duration": 1962,
    "start_time": "2023-02-17T04:46:59.348Z"
   },
   {
    "duration": 29,
    "start_time": "2023-02-17T04:47:01.312Z"
   },
   {
    "duration": 3,
    "start_time": "2023-02-17T04:47:08.136Z"
   },
   {
    "duration": 711,
    "start_time": "2023-02-17T04:47:08.628Z"
   },
   {
    "duration": 5,
    "start_time": "2023-02-17T04:47:09.491Z"
   },
   {
    "duration": 10,
    "start_time": "2023-02-17T04:47:09.962Z"
   },
   {
    "duration": 5,
    "start_time": "2023-02-17T04:58:53.799Z"
   },
   {
    "duration": 6,
    "start_time": "2023-02-17T04:58:54.417Z"
   },
   {
    "duration": 13,
    "start_time": "2023-02-17T04:58:54.968Z"
   },
   {
    "duration": 2,
    "start_time": "2023-02-17T04:59:13.166Z"
   },
   {
    "duration": 7,
    "start_time": "2023-02-17T04:59:13.714Z"
   },
   {
    "duration": 3,
    "start_time": "2023-02-17T04:59:47.026Z"
   },
   {
    "duration": 6,
    "start_time": "2023-02-17T04:59:47.255Z"
   },
   {
    "duration": 3,
    "start_time": "2023-02-17T04:59:47.475Z"
   },
   {
    "duration": 54,
    "start_time": "2023-02-17T11:14:16.085Z"
   },
   {
    "duration": 1245,
    "start_time": "2023-02-17T11:14:24.989Z"
   },
   {
    "duration": 153,
    "start_time": "2023-02-17T11:14:26.236Z"
   },
   {
    "duration": 6,
    "start_time": "2023-02-17T11:14:26.620Z"
   },
   {
    "duration": 1345,
    "start_time": "2023-02-17T11:14:27.200Z"
   },
   {
    "duration": 12,
    "start_time": "2023-02-17T11:14:28.548Z"
   },
   {
    "duration": 66,
    "start_time": "2023-02-17T11:14:28.563Z"
   },
   {
    "duration": 33500,
    "start_time": "2023-02-17T11:15:03.779Z"
   },
   {
    "duration": 3,
    "start_time": "2023-02-17T11:16:11.491Z"
   },
   {
    "duration": 25,
    "start_time": "2023-02-17T11:16:11.971Z"
   },
   {
    "duration": 4,
    "start_time": "2023-02-17T11:16:13.048Z"
   },
   {
    "duration": 610,
    "start_time": "2023-02-17T11:16:13.494Z"
   },
   {
    "duration": 6,
    "start_time": "2023-02-17T11:16:14.122Z"
   },
   {
    "duration": 14,
    "start_time": "2023-02-17T11:16:14.719Z"
   },
   {
    "duration": 18,
    "start_time": "2023-02-17T11:16:26.443Z"
   },
   {
    "duration": 4,
    "start_time": "2023-02-17T11:16:45.508Z"
   },
   {
    "duration": 34,
    "start_time": "2023-02-17T11:16:46.033Z"
   },
   {
    "duration": 5,
    "start_time": "2023-02-17T11:16:46.992Z"
   },
   {
    "duration": 668,
    "start_time": "2023-02-17T11:16:47.475Z"
   },
   {
    "duration": 12,
    "start_time": "2023-02-17T11:16:48.145Z"
   },
   {
    "duration": 12,
    "start_time": "2023-02-17T11:16:48.695Z"
   },
   {
    "duration": 14,
    "start_time": "2023-02-17T11:16:51.310Z"
   },
   {
    "duration": 18,
    "start_time": "2023-02-17T11:17:30.943Z"
   },
   {
    "duration": 176,
    "start_time": "2023-02-17T11:17:51.944Z"
   },
   {
    "duration": 36101,
    "start_time": "2023-02-17T11:18:44.058Z"
   },
   {
    "duration": 17,
    "start_time": "2023-02-17T11:20:04.492Z"
   },
   {
    "duration": 21,
    "start_time": "2023-02-17T11:20:17.640Z"
   },
   {
    "duration": 31844,
    "start_time": "2023-02-17T11:20:56.976Z"
   },
   {
    "duration": 31,
    "start_time": "2023-02-17T11:21:45.790Z"
   },
   {
    "duration": 11,
    "start_time": "2023-02-17T11:23:07.899Z"
   },
   {
    "duration": 43407,
    "start_time": "2023-02-17T11:23:16.802Z"
   },
   {
    "duration": 51265,
    "start_time": "2023-02-17T11:24:11.719Z"
   },
   {
    "duration": 126,
    "start_time": "2023-02-17T11:25:24.186Z"
   },
   {
    "duration": 24095,
    "start_time": "2023-02-17T11:25:33.591Z"
   },
   {
    "duration": 1247,
    "start_time": "2023-02-17T11:27:37.482Z"
   },
   {
    "duration": 178,
    "start_time": "2023-02-17T11:28:08.927Z"
   },
   {
    "duration": 185,
    "start_time": "2023-02-17T11:28:31.707Z"
   },
   {
    "duration": 271,
    "start_time": "2023-02-17T11:29:08.697Z"
   },
   {
    "duration": 183,
    "start_time": "2023-02-17T11:32:58.525Z"
   },
   {
    "duration": 232,
    "start_time": "2023-02-17T11:34:31.513Z"
   },
   {
    "duration": 231,
    "start_time": "2023-02-17T11:35:29.136Z"
   },
   {
    "duration": 216,
    "start_time": "2023-02-17T11:36:09.604Z"
   },
   {
    "duration": 163,
    "start_time": "2023-02-17T11:38:35.197Z"
   },
   {
    "duration": 260,
    "start_time": "2023-02-17T11:38:38.626Z"
   },
   {
    "duration": 211,
    "start_time": "2023-02-17T11:38:40.001Z"
   },
   {
    "duration": 222,
    "start_time": "2023-02-17T11:42:50.534Z"
   },
   {
    "duration": 163,
    "start_time": "2023-02-17T11:43:47.480Z"
   },
   {
    "duration": 65,
    "start_time": "2023-02-17T11:46:56.047Z"
   },
   {
    "duration": 65,
    "start_time": "2023-02-17T11:51:57.634Z"
   },
   {
    "duration": 41,
    "start_time": "2023-02-17T11:53:59.890Z"
   },
   {
    "duration": 4,
    "start_time": "2023-02-17T11:54:10.500Z"
   },
   {
    "duration": 25,
    "start_time": "2023-02-17T11:54:10.678Z"
   },
   {
    "duration": 7,
    "start_time": "2023-02-17T11:54:10.999Z"
   },
   {
    "duration": 703,
    "start_time": "2023-02-17T11:54:11.175Z"
   },
   {
    "duration": 5,
    "start_time": "2023-02-17T11:54:11.881Z"
   },
   {
    "duration": 15,
    "start_time": "2023-02-17T11:54:11.888Z"
   },
   {
    "duration": 216,
    "start_time": "2023-02-17T11:54:11.906Z"
   },
   {
    "duration": 197,
    "start_time": "2023-02-17T11:54:12.124Z"
   },
   {
    "duration": 194,
    "start_time": "2023-02-17T11:54:12.323Z"
   },
   {
    "duration": 5,
    "start_time": "2023-02-17T11:54:17.141Z"
   },
   {
    "duration": 7,
    "start_time": "2023-02-17T11:54:17.674Z"
   },
   {
    "duration": 28,
    "start_time": "2023-02-17T11:54:18.152Z"
   },
   {
    "duration": 3,
    "start_time": "2023-02-17T11:54:19.113Z"
   },
   {
    "duration": 20,
    "start_time": "2023-02-17T11:54:19.603Z"
   },
   {
    "duration": 4,
    "start_time": "2023-02-17T11:54:20.485Z"
   },
   {
    "duration": 8,
    "start_time": "2023-02-17T11:54:20.983Z"
   },
   {
    "duration": 5,
    "start_time": "2023-02-17T11:54:21.419Z"
   },
   {
    "duration": 4997,
    "start_time": "2023-03-05T21:40:05.899Z"
   },
   {
    "duration": 228,
    "start_time": "2023-03-05T21:40:10.899Z"
   },
   {
    "duration": 15,
    "start_time": "2023-03-05T21:41:35.397Z"
   },
   {
    "duration": 101,
    "start_time": "2023-03-05T21:41:36.194Z"
   },
   {
    "duration": 12,
    "start_time": "2023-03-05T21:41:37.136Z"
   },
   {
    "duration": 3,
    "start_time": "2023-03-05T22:12:56.691Z"
   },
   {
    "duration": 204,
    "start_time": "2023-03-05T22:12:59.494Z"
   },
   {
    "duration": 7697,
    "start_time": "2023-03-06T16:22:53.145Z"
   },
   {
    "duration": 192,
    "start_time": "2023-03-06T16:23:00.849Z"
   }
  ],
  "kernelspec": {
   "display_name": "Python 3 (ipykernel)",
   "language": "python",
   "name": "python3"
  },
  "language_info": {
   "codemirror_mode": {
    "name": "ipython",
    "version": 3
   },
   "file_extension": ".py",
   "mimetype": "text/x-python",
   "name": "python",
   "nbconvert_exporter": "python",
   "pygments_lexer": "ipython3",
   "version": "3.9.12"
  },
  "toc": {
   "base_numbering": 1,
   "nav_menu": {},
   "number_sections": true,
   "sideBar": true,
   "skip_h1_title": true,
   "title_cell": "Содержание",
   "title_sidebar": "Contents",
   "toc_cell": true,
   "toc_position": {},
   "toc_section_display": true,
   "toc_window_display": true
  }
 },
 "nbformat": 4,
 "nbformat_minor": 2
}
